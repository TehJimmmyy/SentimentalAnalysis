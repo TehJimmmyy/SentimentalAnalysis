{
  "nbformat": 4,
  "nbformat_minor": 0,
  "metadata": {
    "colab": {
      "provenance": [],
      "authorship_tag": "ABX9TyMtNB+Tiivb6pgvIkVxTxYW",
      "include_colab_link": true
    },
    "kernelspec": {
      "display_name": "Python 3",
      "name": "python3"
    },
    "language_info": {
      "name": "python"
    }
  },
  "cells": [
    {
      "cell_type": "markdown",
      "metadata": {
        "id": "view-in-github",
        "colab_type": "text"
      },
      "source": [
        "<a href=\"https://colab.research.google.com/github/TehJimmmyy/SentimentalAnalysis/blob/main/Irony_Speech_Classifier.ipynb\" target=\"_parent\"><img src=\"https://colab.research.google.com/assets/colab-badge.svg\" alt=\"Open In Colab\"/></a>"
      ]
    },
    {
      "cell_type": "code",
      "metadata": {
        "colab": {
          "base_uri": "https://localhost:8080/"
        },
        "id": "J54RDO5KjyhJ",
        "outputId": "e32c1e00-be47-42f6-c3b9-d7f534dec67e"
      },
      "source": [
        "!gdown 1sh1yidC5_bDWiW7wEE_Ehk-U7VPOXW5m #model1\n",
        "#!gdown --id 1DooDLNEIwX0yqg_qDOcjylIlQXH8JkuC\n",
        "!pip install pytorch-lightning==1.2.8 --quiet\n",
        "!pip install torchtext==0.6 --quiet\n",
        "!pip install transformers --quiet\n",
        "\n",
        "import numpy as np\n",
        "import torch\n",
        "import torch.nn as nn\n",
        "from transformers import BertTokenizerFast as BertTokenizer, BertModel\n",
        "import pytorch_lightning as pl\n",
        "\n",
        "LABEL_COLUMNS=\"Irony_Speech\"\n",
        "BERT_MODEL_NAME = 'bert-base-cased'\n",
        "MAX_TOKEN_COUNT = 90\n",
        "N_EPOCHS = 10\n",
        "BATCH_SIZE = 4\n",
        "tokenizer = BertTokenizer.from_pretrained(BERT_MODEL_NAME)"
      ],
      "execution_count": 1,
      "outputs": [
        {
          "output_type": "stream",
          "name": "stdout",
          "text": [
            "Downloading...\n",
            "From (original): https://drive.google.com/uc?id=1sh1yidC5_bDWiW7wEE_Ehk-U7VPOXW5m\n",
            "From (redirected): https://drive.google.com/uc?id=1sh1yidC5_bDWiW7wEE_Ehk-U7VPOXW5m&confirm=t&uuid=2716c32b-375f-4a4d-9afb-b40da4fd95ae\n",
            "To: /content/IronySpeechModel.ckpt\n",
            "100% 1.30G/1.30G [00:18<00:00, 69.4MB/s]\n"
          ]
        },
        {
          "output_type": "stream",
          "name": "stderr",
          "text": [
            "/usr/local/lib/python3.10/dist-packages/huggingface_hub/utils/_token.py:88: UserWarning: \n",
            "The secret `HF_TOKEN` does not exist in your Colab secrets.\n",
            "To authenticate with the Hugging Face Hub, create a token in your settings tab (https://huggingface.co/settings/tokens), set it as secret in your Google Colab and restart your session.\n",
            "You will be able to reuse this secret in all of your notebooks.\n",
            "Please note that authentication is recommended but still optional to access public models or datasets.\n",
            "  warnings.warn(\n"
          ]
        }
      ]
    },
    {
      "cell_type": "code",
      "metadata": {
        "id": "PAMtk4Eo-6vS"
      },
      "source": [
        "class IronySpeechTagger(pl.LightningModule):\n",
        "\n",
        "  def __init__(self, n_classes: int, n_training_steps=None, n_warmup_steps=None):\n",
        "    super().__init__()\n",
        "    self.bert = BertModel.from_pretrained(BERT_MODEL_NAME, return_dict=True)\n",
        "    self.classifier = nn.Linear(self.bert.config.hidden_size, n_classes)\n",
        "    self.n_training_steps = n_training_steps\n",
        "    self.n_warmup_steps = n_warmup_steps\n",
        "    self.criterion = nn.BCELoss()\n",
        "\n",
        "  def forward(self, input_ids, attention_mask, labels=None):\n",
        "    output = self.bert(input_ids, attention_mask=attention_mask)\n",
        "    output = self.classifier(output.pooler_output)\n",
        "    output = torch.sigmoid(output)\n",
        "    loss = 0\n",
        "    if labels is not None:\n",
        "        loss = self.criterion(output, labels)\n",
        "    return loss, output\n",
        "\n",
        "  def training_step(self, batch, batch_idx):\n",
        "    input_ids = batch[\"input_ids\"]\n",
        "    attention_mask = batch[\"attention_mask\"]\n",
        "    labels = batch[\"labels\"]\n",
        "    loss, outputs = self(input_ids, attention_mask, labels)\n",
        "    self.log(\"train_loss\", loss, prog_bar=True, logger=True)\n",
        "    return {\"loss\": loss, \"predictions\": outputs, \"labels\": labels}\n",
        "\n",
        "  def validation_step(self, batch, batch_idx):\n",
        "    input_ids = batch[\"input_ids\"]\n",
        "    attention_mask = batch[\"attention_mask\"]\n",
        "    labels = batch[\"labels\"]\n",
        "    loss, outputs = self(input_ids, attention_mask, labels)\n",
        "    self.log(\"val_loss\", loss, prog_bar=True, logger=True)\n",
        "    return {\"loss\": loss, \"predictions\": outputs, \"labels\": labels}\n",
        "\n",
        "  def validation_epoch_end(self, outputs):\n",
        "\n",
        "    labels = []\n",
        "    predictions = []\n",
        "    for output in outputs:\n",
        "      for out_labels in output[\"labels\"].detach().cpu():\n",
        "        labels.append(out_labels)\n",
        "      for out_predictions in output[\"predictions\"].detach().cpu():\n",
        "        predictions.append(out_predictions)\n",
        "\n",
        "    labels = torch.stack(labels).int()\n",
        "    predictions = torch.stack(predictions)\n",
        "\n",
        "    validation_acc = accuracy(predictions, labels)\n",
        "    self.logger.experiment.add_scalar(\"Validation Accuracy\", validation_acc, self.current_epoch)\n",
        "\n",
        "  def test_step(self, batch, batch_idx):\n",
        "    input_ids = batch[\"input_ids\"]\n",
        "    attention_mask = batch[\"attention_mask\"]\n",
        "    labels = batch[\"labels\"]\n",
        "    loss, outputs = self(input_ids, attention_mask, labels)\n",
        "    self.log(\"test_loss\", loss, prog_bar=True, logger=True)\n",
        "    return loss\n",
        "\n",
        "  def training_epoch_end(self, outputs):\n",
        "\n",
        "    labels = []\n",
        "    predictions = []\n",
        "    for output in outputs:\n",
        "      for out_labels in output[\"labels\"].detach().cpu():\n",
        "        labels.append(out_labels)\n",
        "      for out_predictions in output[\"predictions\"].detach().cpu():\n",
        "        predictions.append(out_predictions)\n",
        "\n",
        "    labels = torch.stack(labels).int()\n",
        "    predictions = torch.stack(predictions)\n",
        "\n",
        "\n",
        "    class_roc_auc = auroc(predictions, labels)\n",
        "    self.logger.experiment.add_scalar(\"Irony Speech ROC Curve/Train\", class_roc_auc, self.current_epoch)\n",
        "\n",
        "    training_acc = accuracy(predictions, labels)\n",
        "    self.logger.experiment.add_scalar(\"Training Accuracy\", training_acc, self.current_epoch)\n",
        "\n",
        "\n",
        "  def configure_optimizers(self):\n",
        "\n",
        "    optimizer = AdamW(self.parameters(), lr=5e-8)\n",
        "\n",
        "    scheduler = get_linear_schedule_with_warmup(\n",
        "      optimizer,\n",
        "      num_warmup_steps=self.n_warmup_steps,\n",
        "      num_training_steps=self.n_training_steps\n",
        "    )\n",
        "\n",
        "    return dict(\n",
        "      optimizer=optimizer,\n",
        "      lr_scheduler=dict(\n",
        "        scheduler=scheduler,\n",
        "        interval='step'\n",
        "      )\n",
        "    )\n",
        "\n",
        "steps_per_epoch= 29752 // BATCH_SIZE\n",
        "total_training_steps = steps_per_epoch * N_EPOCHS\n",
        "warmup_steps = total_training_steps // 10\n",
        "\n",
        "model = IronySpeechTagger(\n",
        "  n_classes=len(LABEL_COLUMNS),\n",
        "  n_warmup_steps=warmup_steps,\n",
        "  n_training_steps=total_training_steps\n",
        ")\n",
        "\n",
        "trained_model = IronySpeechTagger.load_from_checkpoint(\n",
        "  '/content/IronySpeechModel.ckpt',\n",
        "  n_classes=1,strict=False\n",
        ")\n",
        "trained_model.eval()\n",
        "trained_model.freeze()"
      ],
      "execution_count": 2,
      "outputs": []
    },
    {
      "cell_type": "code",
      "metadata": {
        "colab": {
          "base_uri": "https://localhost:8080/"
        },
        "id": "vElQnwk7dHEu",
        "outputId": "935141f8-7918-4247-8ad8-483bc6ffe5b7"
      },
      "source": [
        "#Enter comment to tag as irony speech and click run\n",
        "\n",
        "test_comment = \"A man who needs medical assistance is run over by the ambulance sent to help him.\"\n",
        "\n",
        "THRESHOLD = 55  #fifty percent threshold\n",
        "encoding = tokenizer.encode_plus(\n",
        "  test_comment,\n",
        "  add_special_tokens=True,\n",
        "  max_length=256,\n",
        "  return_token_type_ids=False,\n",
        "  padding=\"max_length\",\n",
        "  return_attention_mask=True,\n",
        "  return_tensors='pt',\n",
        ")\n",
        "\n",
        "_, test_prediction = trained_model(encoding[\"input_ids\"], encoding[\"attention_mask\"])\n",
        "test_prediction = test_prediction.flatten().numpy()\n",
        "\n",
        "\n",
        "for label, prediction in zip(LABEL_COLUMNS, test_prediction):\n",
        "  prediction = prediction.astype(float) * 100\n",
        "  if prediction < THRESHOLD:\n",
        "    print(f\"Not irony speech with a probability of %.2f %%\" % prediction)\n",
        "    continue\n",
        "  print(f\"Irony Speech with a probability of %.2f %%\" % prediction)"
      ],
      "execution_count": 6,
      "outputs": [
        {
          "output_type": "stream",
          "name": "stdout",
          "text": [
            "Irony Speech with a probability of 66.15 %\n"
          ]
        }
      ]
    }
  ]
}